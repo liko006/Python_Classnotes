{
 "cells": [
  {
   "cell_type": "markdown",
   "metadata": {},
   "source": [
    "# DB : MariaDB"
   ]
  },
  {
   "cell_type": "markdown",
   "metadata": {},
   "source": [
    "## 홈페이지 https://downloads.mariadb.org"
   ]
  },
  {
   "cell_type": "markdown",
   "metadata": {},
   "source": [
    "### 설치\n",
    "\n",
    "1) 다운로드 된 프로그램 설치  \n",
    "   * -> root 계정 패스워드 설정 \n",
    "   * -> UTF-8 설정\n",
    "   * -> 포트번호 확인 : 3306 (MySQL과 동일하다)\n",
    "    \n",
    "2) 환경변수 등록\n",
    "   * -> C:\\Program Files\\MariaDB 10.5\\bin\n",
    "   \n",
    "3) 동작확인\n",
    "   * -> cmd에서 mysql -V 명령어로 버전이 출력되는 것을 확인(설치완료)"
   ]
  },
  {
   "cell_type": "markdown",
   "metadata": {},
   "source": [
    "## DB명령어 특징\n",
    "* 대소문자 구분 없음\n",
    "* 라인의 마지막에는 반드시 세미콜론을 입력함\n",
    "\n",
    "## database -> Excel File과 동일 \n",
    "\n",
    "## Table -> Excel File안의 Sheet와 동일"
   ]
  },
  {
   "cell_type": "markdown",
   "metadata": {},
   "source": [
    "##### SQL에서 DB와 테이블 만들고 조회하는 명령어\n",
    "\n",
    "SHOW DATABASES;\n",
    "\n",
    "CREATE DATABASE db이름;\n",
    "\n",
    "SHOW DATABASES;\n",
    "\n",
    "USE db이름;\n",
    "\n",
    "CREATE TABLE customers (\n",
    "    -> cust_id int(10),\n",
    "    -> cust_name varchar(20),\n",
    "    -> cust_birthday DATE,\n",
    "    -> cust_address VARCHAR(40)\n",
    "    -> );\n",
    "\n",
    "SHOW TABLES;\n",
    "\n",
    "INSERT INTO 테이블명 VALUES(1번값, 2번값, 3번값, ... );\n",
    "\n",
    "SELECT * FROM 테이블명;"
   ]
  },
  {
   "cell_type": "markdown",
   "metadata": {},
   "source": [
    "# SQL 문법의 종류 3가지\n",
    "\n",
    "### 데이터 정의 언어 - (DDL : Data Definition Language)\n",
    "\n",
    "테이블이나 관계의 구조를 생성하는데 사용하며 CREATE, ALTER, DROP, TRUNCATE 문 등이 있다.\n",
    "\n",
    "* CREATE -  "
   ]
  },
  {
   "cell_type": "markdown",
   "metadata": {},
   "source": [
    "### 데이터 조작 언어 - (DML : Data Manipulation Language)\n",
    "\n"
   ]
  },
  {
   "cell_type": "markdown",
   "metadata": {},
   "source": [
    "### 데이터 제어 언어 - (DCL : Data Control Language)\n",
    "\n",
    "데이터의 사용 권환을 관리하는 데 사용하며 GRANT, REVOKE 문 등이 있다. "
   ]
  },
  {
   "cell_type": "markdown",
   "metadata": {},
   "source": [
    "# 데이터베이스 종류\n",
    "\n",
    "1) RDBMS (설치를 해야되는 db)\n",
    "\n",
    "2) NoSQL (설치를 안해도 되는 db): sqlite3 (파이썬 내장됨)"
   ]
  },
  {
   "cell_type": "markdown",
   "metadata": {},
   "source": [
    "# DB 작업 순서\n",
    "\n",
    "DB 생성 -> DB 선택 -> TABLE 생성 -> DATA 작성 -> 조회"
   ]
  },
  {
   "cell_type": "markdown",
   "metadata": {},
   "source": [
    "## NoSQL로 작업하기"
   ]
  },
  {
   "cell_type": "code",
   "execution_count": 1,
   "metadata": {},
   "outputs": [
    {
     "name": "stdout",
     "output_type": "stream",
     "text": [
      "(2001, '강유라', 'seoul', '2000-1-1')\n",
      "(2002, '김진수', 'jeju', '2000-2-2')\n",
      "(2003, '김진형', 'busan', '2000-3-3')\n",
      "(2004, '남도인', 'seoul', '2000-4-4')\n",
      "(2005, '이선아', 'jeju', '2000-5-5')\n",
      "(2006, '조예진', 'busan', '2000-6-6')\n",
      "(2007, '최인식', 'seoul', '2000-7-7')\n",
      "(2008, '황정우', 'jeju', '2000-8-8')\n",
      "(2009, '황호준', 'busan', '2000-9-9')\n",
      "--------------------------------------------------------------------------------\n",
      "Number of rows: 9\n",
      "--------------------------------------------------------------------------------\n"
     ]
    }
   ],
   "source": [
    "import sqlite3\n",
    "\n",
    "# 데이터베이스 객체 생성\n",
    "# :memory: -> In-Memory (인-메모리) : DB작업을 RAM에서 수행한다.\n",
    "con = sqlite3.connect(':memory:')\n",
    "#con = sqlite3.connect('d:/weekend/sample.dump')\n",
    "\n",
    "# 테이블 작성\n",
    "query = '''CREATE TABLE customers (\n",
    "            cust_id INT(10),\n",
    "            cust_name VARCHAR(20),\n",
    "            cust_address VARCHAR(40),\n",
    "            cust_birthday DATE);'''\n",
    "\n",
    "# 지정된 명령 실행\n",
    "con.execute(query)\n",
    "\n",
    "# 즉시 적용\n",
    "con.commit()\n",
    "\n",
    "# 데이터 작성\n",
    "data = [(2001,'강유라','seoul','2000-1-1'),\n",
    "        (2002,'김진수','jeju','2000-2-2'),\n",
    "        (2003,'김진형','busan','2000-3-3'),\n",
    "        (2004,'남도인','seoul','2000-4-4'),\n",
    "        (2005,'이선아','jeju','2000-5-5'),\n",
    "        (2006,'조예진','busan','2000-6-6'),\n",
    "        (2007,'최인식','seoul','2000-7-7'),\n",
    "        (2008,'황정우','jeju','2000-8-8'),\n",
    "        (2009,'황호준','busan','2000-9-9'),]\n",
    "\n",
    "statement = \"INSERT INTO customers VALUES(?,?,?,?)\"\n",
    "con.executemany(statement, data)\n",
    "con.commit()\n",
    "\n",
    "cursor = con.execute(\"SELECT * FROM customers\")\n",
    "rows = cursor.fetchall()\n",
    "\n",
    "row_counter = 0\n",
    "\n",
    "for row in rows:\n",
    "    print(row)\n",
    "    row_counter += 1\n",
    "    \n",
    "print(\"-\"*80)\n",
    "print(f\"Number of rows: {row_counter}\")\n",
    "print(\"-\"*80)"
   ]
  },
  {
   "cell_type": "markdown",
   "metadata": {},
   "source": [
    "## 테이블 생성후 데이터는 외부에서 삽입하기"
   ]
  },
  {
   "cell_type": "code",
   "execution_count": 2,
   "metadata": {},
   "outputs": [],
   "source": [
    "import csv\n",
    "import sqlite3\n",
    "import sys\n",
    "\n",
    "# input_file = sys.argv[1]  <- 이용해서 사용할 파일 직접 입력\n",
    "input_file = './0712/DB/supplier_data.csv'\n",
    "\n",
    "# 지정된 디렉토리에 지정된 이름의 DB 파일이 생성\n",
    "con = sqlite3.connect('./0712/DB/Suppliers.db')\n",
    "c = con.cursor()\n",
    "\n",
    "create_table = '''CREATE TABLE IF NOT EXISTS Suppliers(\n",
    "                Supplier_Name VARCHAR(20),\n",
    "                Invoice_Number VARCHAR(20),\n",
    "                Part_Number VARCHAR(20),\n",
    "                Cost FLOAT,\n",
    "                Purchase_Date DATE);'''\n",
    "\n",
    "c.execute(create_table)\n",
    "con.commit()\n",
    "\n",
    "file_reader = csv.reader(open(input_file, 'r'), delimiter=',')\n",
    "header = next(file_reader, None)\n",
    "\n",
    "for row in file_reader:\n",
    "    data = []\n",
    "    \n",
    "    for column_index in range(len(header)):\n",
    "        data.append(row[column_index])\n",
    "    \n",
    "    # print(data)\n",
    "    c.execute(\"INSERT INTO Suppliers VALUES(?,?,?,?,?)\", data)\n",
    "\n",
    "con.commit()\n",
    "\n",
    "output = c.execute(\"SELECT * FROM Suppliers\")\n",
    "rows = output.fetchall()\n",
    "\n",
    "for row in rows:\n",
    "    output = []\n",
    "    \n",
    "    for column_index in range(len(row)):\n",
    "        output.append(str(row[column_index]))\n",
    "        \n",
    "    # print(output)"
   ]
  },
  {
   "cell_type": "code",
   "execution_count": 3,
   "metadata": {},
   "outputs": [],
   "source": [
    "import csv\n",
    "import sqlite3\n",
    "import sys\n",
    "\n",
    "# input_file = sys.argv[1]  <- 이용해서 사용할 파일 직접 입력\n",
    "input_file = './0712/DB/seoul_bus.csv'\n",
    "\n",
    "# 지정된 디렉토리에 지정된 이름의 DB 파일이 생성\n",
    "con = sqlite3.connect('./0712/DB/seoul_bus.db')\n",
    "c = con.cursor()\n",
    "\n",
    "create_table = '''CREATE TABLE IF NOT EXISTS SeoulBus(\n",
    "                    \"노선ID\" VARCHAR(20),\n",
    "                    \"노선명\" VARCHAR(20),\n",
    "                    \"순번\" VARCHAR(20),\n",
    "                    \"구간ID\" VARCHAR(20),\n",
    "                    \"정류소ID\" VARCHAR(20),\n",
    "                    \"ARS-ID\" INT(5),\n",
    "                    \"정류소명\" VARCHAR(20),\n",
    "                    \"X좌표\" FLOAT,\n",
    "                    \"Y좌표\" FLOAT);'''\n",
    "\n",
    "c.execute(create_table)\n",
    "con.commit()\n",
    "\n",
    "file_reader = csv.reader(open(input_file, 'r'), delimiter=',')\n",
    "header = next(file_reader, None)\n",
    "\n",
    "for row in file_reader:\n",
    "    data = []\n",
    "    \n",
    "    for column_index in range(len(header)):\n",
    "        data.append(row[column_index])\n",
    "    \n",
    "    # print(data)\n",
    "    c.execute(\"INSERT INTO SeoulBus VALUES(?,?,?,?,?,?,?,?,?)\", data)\n",
    "\n",
    "con.commit()\n",
    "\n",
    "output = c.execute(\"SELECT * FROM SeoulBus\")\n",
    "rows = output.fetchall()\n",
    "\n",
    "for row in rows:\n",
    "    output = []\n",
    "    \n",
    "    for column_index in range(len(row)):\n",
    "        output.append(str(row[column_index]))\n",
    "        \n",
    "   # print(output)"
   ]
  },
  {
   "cell_type": "markdown",
   "metadata": {},
   "source": [
    "# 실습 : 열린 데이터광장 -> 서울시 지하철 환승정보"
   ]
  },
  {
   "cell_type": "markdown",
   "metadata": {},
   "source": [
    "### 데이터 수정하기 : update set"
   ]
  },
  {
   "cell_type": "code",
   "execution_count": 4,
   "metadata": {},
   "outputs": [
    {
     "name": "stdout",
     "output_type": "stream",
     "text": [
      "(2001, '아파트', 800000000, '2000-1-1')\n",
      "(2002, '자동차', 100000000, '2000-2-2')\n",
      "(2003, '김진형', 30, '2000-3-3')\n",
      "(2004, '남도인', 25, '2000-4-4')\n",
      "(2005, '이선아', 26, '2000-5-5')\n",
      "(2006, '조예진', 27, '2000-6-6')\n",
      "(2007, '최인식', 28, '2000-7-7')\n",
      "(2008, '황정우', 29, '2000-8-8')\n",
      "(2009, '황호준', 30, '2000-9-9')\n",
      "['700000000', '7/11/2021', '2001']\n",
      "['31', '4/16/2021', '2003']\n",
      "['700', '20-12-31', '2004']\n",
      "['2001', '아파트', '700000000.0', '7/11/2021']\n",
      "['2002', '자동차', '100000000.0', '2000-2-2']\n",
      "['2003', '김진형', '31.0', '4/16/2021']\n",
      "['2004', '남도인', '700.0', '20-12-31']\n",
      "['2005', '이선아', '26.0', '2000-5-5']\n",
      "['2006', '조예진', '27.0', '2000-6-6']\n",
      "['2007', '최인식', '28.0', '2000-7-7']\n",
      "['2008', '황정우', '29.0', '2000-8-8']\n",
      "['2009', '황호준', '30.0', '2000-9-9']\n"
     ]
    }
   ],
   "source": [
    "import csv\n",
    "import sqlite3\n",
    "import sys\n",
    "\n",
    "#input_file = sys.argv[1]\n",
    "input_file = './0712/DB/update_data.csv'\n",
    "\n",
    "# 데이터베이스 객체 생성\n",
    "# :memory: -> In-Memory (인-메모리) : DB작업을 RAM에서 수행한다.\n",
    "con = sqlite3.connect(':memory:')\n",
    "#con = sqlite3.connect('d:/weekend/sample.dump')\n",
    "\n",
    "query = '''CREATE TABLE IF NOT EXISTS sales (\n",
    "            customer VARCHAR(20),\n",
    "            product VARCHAR(40),\n",
    "            amount FLOAT,\n",
    "            date DATE);'''\n",
    "\n",
    "con.execute(query)\n",
    "con.commit()\n",
    "\n",
    "data = [(2001,'아파트',800000000,'2000-1-1'),\n",
    "        (2002,'자동차',100000000,'2000-2-2'),\n",
    "        (2003,'김진형',30,'2000-3-3'),\n",
    "        (2004,'남도인',25,'2000-4-4'),\n",
    "        (2005,'이선아',26,'2000-5-5'),\n",
    "        (2006,'조예진',27,'2000-6-6'),\n",
    "        (2007,'최인식',28,'2000-7-7'),\n",
    "        (2008,'황정우',29,'2000-8-8'),\n",
    "        (2009,'황호준',30,'2000-9-9'),]\n",
    "\n",
    "for tuple in data:\n",
    "    print(tuple)\n",
    "statement = \"INSERT INTO sales VALUES(?,?,?,?)\"\n",
    "con.executemany(statement, data)\n",
    "con.commit()\n",
    "\n",
    "file_reader = csv.reader(open(input_file, 'r'), delimiter=',')\n",
    "header = next(file_reader, None)\n",
    "\n",
    "for row in file_reader:\n",
    "    data =[]\n",
    "    for column_index in range(len(header)):\n",
    "        data.append(row[column_index])\n",
    "    print(data)\n",
    "    con.execute(\"UPDATE sales SET amount=?, date=? WHERE customer=?;\", data)\n",
    "con.commit()\n",
    "\n",
    "cursor = con.execute(\"SELECT * FROM sales\")\n",
    "rows = cursor.fetchall()\n",
    "for row in rows:\n",
    "    output = []\n",
    "    for column_index in range(len(row)):\n",
    "        output.append(str(row[column_index]))\n",
    "    print(output)"
   ]
  },
  {
   "cell_type": "code",
   "execution_count": 6,
   "metadata": {},
   "outputs": [
    {
     "name": "stdout",
     "output_type": "stream",
     "text": [
      "Requirement already satisfied: mysqlclient in c:\\users\\tj\\appdata\\local\\programs\\python\\python38\\lib\\site-packages (1.4.6)\n"
     ]
    }
   ],
   "source": [
    "!pip install mysqlclient"
   ]
  },
  {
   "cell_type": "code",
   "execution_count": 9,
   "metadata": {},
   "outputs": [
    {
     "name": "stdout",
     "output_type": "stream",
     "text": [
      "Requirement already satisfied: mysql in c:\\users\\tj\\appdata\\local\\programs\\python\\python38\\lib\\site-packages (0.0.2)\n",
      "Requirement already satisfied: mysqlclient in c:\\users\\tj\\appdata\\local\\programs\\python\\python38\\lib\\site-packages (from mysql) (1.4.6)\n"
     ]
    }
   ],
   "source": [
    "!pip install mysql"
   ]
  },
  {
   "cell_type": "markdown",
   "metadata": {},
   "source": [
    "# CSV 파일을 이용하여 MariaDB에 데이터 작성하기"
   ]
  },
  {
   "cell_type": "code",
   "execution_count": 42,
   "metadata": {},
   "outputs": [
    {
     "name": "stdout",
     "output_type": "stream",
     "text": [
      "['Supplier X', '001-1001', '2341', '500.00', '2014-01-20']\n",
      "['Supplier X', '001-1001', '2341', '500.00', '2014-01-20']\n",
      "['Supplier X', '001-1001', '5467', '750.00', '2014-01-20']\n",
      "['Supplier X', '001-1001', '5467', '750.00', '2014-01-20']\n",
      "['Supplier Y', '50-9501', '7009', '250.00', '2014-01-30']\n",
      "['Supplier Y', '50-9501', '7009', '250.00', '2014-01-30']\n",
      "['Supplier Y', '50-9505', '6650', '125.00', '2014-02-17']\n",
      "['Supplier Y', '50-9505', '6650', '125.00', '2014-02-17']\n",
      "['Supplier Z', '920-4803', '3321', '615.00', '2014-02-17']\n",
      "['Supplier Z', '920-4804', '3321', '615.00', '2014-02-17']\n",
      "['Supplier Z', '920-4805', '3321', '615.00', '2014-02-17']\n",
      "['Supplier Z', '920-4806', '3321', '615.00', '2014-02-24']\n",
      "['Supplier X', '001-1001', '2341', '500.0', '2014-01-20']\n",
      "['Supplier X', '001-1001', '2341', '500.0', '2014-01-20']\n",
      "['Supplier X', '001-1001', '5467', '750.0', '2014-01-20']\n",
      "['Supplier X', '001-1001', '5467', '750.0', '2014-01-20']\n",
      "['Supplier Y', '50-9501', '7009', '250.0', '2014-01-30']\n",
      "['Supplier Y', '50-9501', '7009', '250.0', '2014-01-30']\n",
      "['Supplier Y', '50-9505', '6650', '125.0', '2014-02-17']\n",
      "['Supplier Y', '50-9505', '6650', '125.0', '2014-02-17']\n",
      "['Supplier Z', '920-4803', '3321', '615.0', '2014-02-17']\n",
      "['Supplier Z', '920-4804', '3321', '615.0', '2014-02-17']\n",
      "['Supplier Z', '920-4805', '3321', '615.0', '2014-02-17']\n",
      "['Supplier Z', '920-4806', '3321', '615.0', '2014-02-24']\n",
      "['Supplier X', '001-1001', '2341', '500.0', '2014-01-20']\n",
      "['Supplier X', '001-1001', '2341', '500.0', '2014-01-20']\n",
      "['Supplier X', '001-1001', '5467', '750.0', '2014-01-20']\n",
      "['Supplier X', '001-1001', '5467', '750.0', '2014-01-20']\n",
      "['Supplier Y', '50-9501', '7009', '250.0', '2014-01-30']\n",
      "['Supplier Y', '50-9501', '7009', '250.0', '2014-01-30']\n",
      "['Supplier Y', '50-9505', '6650', '125.0', '2014-02-17']\n",
      "['Supplier Y', '50-9505', '6650', '125.0', '2014-02-17']\n",
      "['Supplier Z', '920-4803', '3321', '615.0', '2014-02-17']\n",
      "['Supplier Z', '920-4804', '3321', '615.0', '2014-02-17']\n",
      "['Supplier Z', '920-4805', '3321', '615.0', '2014-02-17']\n",
      "['Supplier Z', '920-4806', '3321', '615.0', '2014-02-24']\n"
     ]
    }
   ],
   "source": [
    "import csv\n",
    "import sqlite3\n",
    "import MySQLdb\n",
    "import sys\n",
    "from datetime import datetime, date\n",
    "\n",
    "# input_file = sys.argv[1]\n",
    "input_file = './0712/DB/supplier_data.csv'\n",
    "\n",
    "con = MySQLdb.connect(host='localhost', port=3306, db='kjh', \n",
    "                      user='root', passwd='root')\n",
    "c = con.cursor()\n",
    "\n",
    "file_reader = csv.reader(open(input_file, 'r', encoding='utf-8'), delimiter=',')\n",
    "header = next(file_reader, None)\n",
    "\n",
    "for row in file_reader:\n",
    "    data = []\n",
    "    \n",
    "    for column_index in range(len(header)):\n",
    "        if column_index < 4:\n",
    "            data.append(str(row[column_index]).lstrip('$').replace(',', '').strip())\n",
    "        else:\n",
    "            a_date = datetime.date(datetime.strptime(str(row[column_index]), '%m/%d/%y'))\n",
    "            a_date = a_date.strftime('%Y-%m-%d')\n",
    "            data.append(a_date)\n",
    "    \n",
    "    print(data)\n",
    "    c.execute(\"\"\"INSERT INTO suppl VALUES(%s,%s,%s,%s,%s);\"\"\", data)\n",
    "con.commit()\n",
    "\n",
    "c.execute(\"\"\"SELECT * FROM suppl;\"\"\")\n",
    "rows = c.fetchall()\n",
    "\n",
    "for row in rows:\n",
    "    row_list_output = []\n",
    "    \n",
    "    for column_index in range(len(row)):\n",
    "        row_list_output.append(str(row[column_index]))\n",
    "    \n",
    "    print(row_list_output)\n",
    "    "
   ]
  },
  {
   "cell_type": "code",
   "execution_count": 53,
   "metadata": {},
   "outputs": [
    {
     "name": "stdout",
     "output_type": "stream",
     "text": [
      "['100100124', '0017', '1', '0', '102000271', '03689', '청암자이아파트', '126.9465174884', '37.5343626071']\n"
     ]
    },
    {
     "ename": "UnicodeEncodeError",
     "evalue": "'charmap' codec can't encode characters in position 0-6: character maps to <undefined>",
     "output_type": "error",
     "traceback": [
      "\u001b[1;31m---------------------------------------------------------------------------\u001b[0m",
      "\u001b[1;31mUnicodeEncodeError\u001b[0m                        Traceback (most recent call last)",
      "\u001b[1;32m<ipython-input-53-3a7604394dc2>\u001b[0m in \u001b[0;36m<module>\u001b[1;34m\u001b[0m\n\u001b[0;32m     22\u001b[0m \u001b[1;33m\u001b[0m\u001b[0m\n\u001b[0;32m     23\u001b[0m     \u001b[0mprint\u001b[0m\u001b[1;33m(\u001b[0m\u001b[0mdata\u001b[0m\u001b[1;33m)\u001b[0m\u001b[1;33m\u001b[0m\u001b[1;33m\u001b[0m\u001b[0m\n\u001b[1;32m---> 24\u001b[1;33m     \u001b[0mc\u001b[0m\u001b[1;33m.\u001b[0m\u001b[0mexecute\u001b[0m\u001b[1;33m(\u001b[0m\u001b[1;34m\"INSERT INTO bus VALUES (?,?,?,?,?,?,?,?,?);\"\u001b[0m\u001b[1;33m,\u001b[0m \u001b[0mdata\u001b[0m\u001b[1;33m)\u001b[0m\u001b[1;33m\u001b[0m\u001b[1;33m\u001b[0m\u001b[0m\n\u001b[0m\u001b[0;32m     25\u001b[0m \u001b[0mcon\u001b[0m\u001b[1;33m.\u001b[0m\u001b[0mcommit\u001b[0m\u001b[1;33m(\u001b[0m\u001b[1;33m)\u001b[0m\u001b[1;33m\u001b[0m\u001b[1;33m\u001b[0m\u001b[0m\n\u001b[0;32m     26\u001b[0m \u001b[1;33m\u001b[0m\u001b[0m\n",
      "\u001b[1;32mc:\\users\\tj\\appdata\\local\\programs\\python\\python38\\lib\\site-packages\\MySQLdb\\cursors.py\u001b[0m in \u001b[0;36mexecute\u001b[1;34m(self, query, args)\u001b[0m\n\u001b[0;32m    200\u001b[0m                 \u001b[0margs\u001b[0m \u001b[1;33m=\u001b[0m \u001b[0mnargs\u001b[0m\u001b[1;33m\u001b[0m\u001b[1;33m\u001b[0m\u001b[0m\n\u001b[0;32m    201\u001b[0m             \u001b[1;32melse\u001b[0m\u001b[1;33m:\u001b[0m\u001b[1;33m\u001b[0m\u001b[1;33m\u001b[0m\u001b[0m\n\u001b[1;32m--> 202\u001b[1;33m                 \u001b[0margs\u001b[0m \u001b[1;33m=\u001b[0m \u001b[0mtuple\u001b[0m\u001b[1;33m(\u001b[0m\u001b[0mmap\u001b[0m\u001b[1;33m(\u001b[0m\u001b[0mdb\u001b[0m\u001b[1;33m.\u001b[0m\u001b[0mliteral\u001b[0m\u001b[1;33m,\u001b[0m \u001b[0margs\u001b[0m\u001b[1;33m)\u001b[0m\u001b[1;33m)\u001b[0m\u001b[1;33m\u001b[0m\u001b[1;33m\u001b[0m\u001b[0m\n\u001b[0m\u001b[0;32m    203\u001b[0m             \u001b[1;32mtry\u001b[0m\u001b[1;33m:\u001b[0m\u001b[1;33m\u001b[0m\u001b[1;33m\u001b[0m\u001b[0m\n\u001b[0;32m    204\u001b[0m                 \u001b[0mquery\u001b[0m \u001b[1;33m=\u001b[0m \u001b[0mquery\u001b[0m \u001b[1;33m%\u001b[0m \u001b[0margs\u001b[0m\u001b[1;33m\u001b[0m\u001b[1;33m\u001b[0m\u001b[0m\n",
      "\u001b[1;32mc:\\users\\tj\\appdata\\local\\programs\\python\\python38\\lib\\site-packages\\MySQLdb\\connections.py\u001b[0m in \u001b[0;36mliteral\u001b[1;34m(self, o)\u001b[0m\n\u001b[0;32m    258\u001b[0m         \"\"\"\n\u001b[0;32m    259\u001b[0m         \u001b[1;32mif\u001b[0m \u001b[0misinstance\u001b[0m\u001b[1;33m(\u001b[0m\u001b[0mo\u001b[0m\u001b[1;33m,\u001b[0m \u001b[0municode\u001b[0m\u001b[1;33m)\u001b[0m\u001b[1;33m:\u001b[0m\u001b[1;33m\u001b[0m\u001b[1;33m\u001b[0m\u001b[0m\n\u001b[1;32m--> 260\u001b[1;33m             \u001b[0ms\u001b[0m \u001b[1;33m=\u001b[0m \u001b[0mself\u001b[0m\u001b[1;33m.\u001b[0m\u001b[0mstring_literal\u001b[0m\u001b[1;33m(\u001b[0m\u001b[0mo\u001b[0m\u001b[1;33m.\u001b[0m\u001b[0mencode\u001b[0m\u001b[1;33m(\u001b[0m\u001b[0mself\u001b[0m\u001b[1;33m.\u001b[0m\u001b[0mencoding\u001b[0m\u001b[1;33m)\u001b[0m\u001b[1;33m)\u001b[0m\u001b[1;33m\u001b[0m\u001b[1;33m\u001b[0m\u001b[0m\n\u001b[0m\u001b[0;32m    261\u001b[0m         \u001b[1;32melif\u001b[0m \u001b[0misinstance\u001b[0m\u001b[1;33m(\u001b[0m\u001b[0mo\u001b[0m\u001b[1;33m,\u001b[0m \u001b[0mbytearray\u001b[0m\u001b[1;33m)\u001b[0m\u001b[1;33m:\u001b[0m\u001b[1;33m\u001b[0m\u001b[1;33m\u001b[0m\u001b[0m\n\u001b[0;32m    262\u001b[0m             \u001b[0ms\u001b[0m \u001b[1;33m=\u001b[0m \u001b[0mself\u001b[0m\u001b[1;33m.\u001b[0m\u001b[0m_bytes_literal\u001b[0m\u001b[1;33m(\u001b[0m\u001b[0mo\u001b[0m\u001b[1;33m)\u001b[0m\u001b[1;33m\u001b[0m\u001b[1;33m\u001b[0m\u001b[0m\n",
      "\u001b[1;32mc:\\users\\tj\\appdata\\local\\programs\\python\\python38\\lib\\encodings\\cp1252.py\u001b[0m in \u001b[0;36mencode\u001b[1;34m(self, input, errors)\u001b[0m\n\u001b[0;32m     10\u001b[0m \u001b[1;33m\u001b[0m\u001b[0m\n\u001b[0;32m     11\u001b[0m     \u001b[1;32mdef\u001b[0m \u001b[0mencode\u001b[0m\u001b[1;33m(\u001b[0m\u001b[0mself\u001b[0m\u001b[1;33m,\u001b[0m\u001b[0minput\u001b[0m\u001b[1;33m,\u001b[0m\u001b[0merrors\u001b[0m\u001b[1;33m=\u001b[0m\u001b[1;34m'strict'\u001b[0m\u001b[1;33m)\u001b[0m\u001b[1;33m:\u001b[0m\u001b[1;33m\u001b[0m\u001b[1;33m\u001b[0m\u001b[0m\n\u001b[1;32m---> 12\u001b[1;33m         \u001b[1;32mreturn\u001b[0m \u001b[0mcodecs\u001b[0m\u001b[1;33m.\u001b[0m\u001b[0mcharmap_encode\u001b[0m\u001b[1;33m(\u001b[0m\u001b[0minput\u001b[0m\u001b[1;33m,\u001b[0m\u001b[0merrors\u001b[0m\u001b[1;33m,\u001b[0m\u001b[0mencoding_table\u001b[0m\u001b[1;33m)\u001b[0m\u001b[1;33m\u001b[0m\u001b[1;33m\u001b[0m\u001b[0m\n\u001b[0m\u001b[0;32m     13\u001b[0m \u001b[1;33m\u001b[0m\u001b[0m\n\u001b[0;32m     14\u001b[0m     \u001b[1;32mdef\u001b[0m \u001b[0mdecode\u001b[0m\u001b[1;33m(\u001b[0m\u001b[0mself\u001b[0m\u001b[1;33m,\u001b[0m\u001b[0minput\u001b[0m\u001b[1;33m,\u001b[0m\u001b[0merrors\u001b[0m\u001b[1;33m=\u001b[0m\u001b[1;34m'strict'\u001b[0m\u001b[1;33m)\u001b[0m\u001b[1;33m:\u001b[0m\u001b[1;33m\u001b[0m\u001b[1;33m\u001b[0m\u001b[0m\n",
      "\u001b[1;31mUnicodeEncodeError\u001b[0m: 'charmap' codec can't encode characters in position 0-6: character maps to <undefined>"
     ]
    }
   ],
   "source": [
    "import csv\n",
    "import sqlite3\n",
    "import MySQLdb\n",
    "import sys\n",
    "from datetime import datetime, date\n",
    "\n",
    "# input_file = sys.argv[1]\n",
    "input_file = './0712/DB/seoul_bus.csv'\n",
    "\n",
    "con = MySQLdb.connect(host='localhost', port=3306, db='kjh', \n",
    "                      user='root', passwd='root')\n",
    "c = con.cursor()\n",
    "\n",
    "file_reader = csv.reader(open(input_file, 'r'), delimiter=',')\n",
    "header = next(file_reader, None)\n",
    "\n",
    "for row in file_reader:\n",
    "    data = []\n",
    "    \n",
    "    for column_index in range(len(header)):\n",
    "        data.append(row[column_index])\n",
    "        \n",
    "    print(data)\n",
    "    c.execute(\"\"\"INSERT INTO bus VALUES (?,?,?,?,?,?,?,?,?);\"\"\", data)\n",
    "con.commit()\n",
    "\n",
    "c.execute(\"\"\"SELECT * FROM bus;\"\"\")\n",
    "rows = c.fetchall()\n",
    "\n",
    "for row in rows:\n",
    "    row_list_output = []\n",
    "    \n",
    "    for column_index in range(len(row)):\n",
    "        row_list_output.append(str(row[column_index]))\n",
    "    \n",
    "   # print(row_list_output)\n",
    "    "
   ]
  },
  {
   "cell_type": "code",
   "execution_count": null,
   "metadata": {},
   "outputs": [],
   "source": [
    "# Suppliers 테이블에서 특정 레코드를 검색한 후 결과를 CSV 파일로 저장한다.\n",
    "\n",
    "#!/usr/bin/env python3\n",
    "import csv\n",
    "import MySQLdb\n",
    "import sys\n",
    "\n",
    "# 저장할 CSV 파일명을 입력한다.\n",
    "output_file = sys.argv[1]\n",
    "\n",
    "\n",
    "# 접속할 DB 정보 입력\n",
    "con = MySQLdb.connect(host='localhost', port=3306, db='my_suppliers', user='user1', passwd='user1')\n",
    "c = con.cursor()\n",
    "\n",
    "\n",
    "# 헤더 정렬 및 CSV 파일 저장\n",
    "filewriter = csv.writer(open(output_file, 'w', newline=''), delimiter=',')\n",
    "header = ['Supplier Name','Invoice Number','Part Number','Cost','Purchase Date']\n",
    "filewriter.writerow(header)\n",
    "\n",
    "\n",
    "# 조건 설정\n",
    "c.execute(\"\"\"SELECT * \n",
    "        FROM Suppliers \n",
    "        WHERE Cost > 700.0;\"\"\")\n",
    "\n",
    "rows = c.fetchall()\n",
    "for row in rows:\n",
    "    filewriter.writerow(row)\n",
    "\n",
    "'''\n",
    "저장후 명령프롬프트(CMD)에서 아래의 명령을 실행한다 (경로까지 지정)\n",
    "cmd> python 5db_write_to_file.py  5output.csv\n",
    "\n",
    "'''\n"
   ]
  },
  {
   "cell_type": "code",
   "execution_count": null,
   "metadata": {},
   "outputs": [],
   "source": [
    "#!/usr/bin/env python3\n",
    "import csv\n",
    "import MySQLdb\n",
    "import sys\n",
    "\n",
    "# Path to and name of a CSV input file\n",
    "input_file = sys.argv[1]\n",
    "\n",
    "# Connect to a MySQL database\n",
    "con = MySQLdb.connect(host='localhost', port=3306, db='my_suppliers', user='root', passwd='toor')\n",
    "c = con.cursor()\n",
    "\n",
    "# Read the CSV file and update the specific rows\n",
    "file_reader = csv.reader(open(input_file, 'r', newline=''), delimiter=',')\n",
    "header = next(file_reader, None)\n",
    "for row in file_reader:\n",
    "    data = []\n",
    "    for column_index in range(len(header)):\n",
    "        data.append(str(row[column_index]).strip())\n",
    "    print(data)\n",
    "    c.execute(\"\"\"UPDATE Suppliers SET Cost=%s, Purchase_Date=%s WHERE Supplier_Name=%s;\"\"\", data)\n",
    "con.commit()\n",
    "\n",
    "# Query the Suppliers table\n",
    "c.execute(\"SELECT * FROM Suppliers\")\n",
    "rows = c.fetchall()\n",
    "for row in rows:\n",
    "    output = []\n",
    "    for column_index in range(len(row)):\n",
    "        output.append(str(row[column_index]))\n",
    "    print(output)\n"
   ]
  },
  {
   "cell_type": "code",
   "execution_count": null,
   "metadata": {},
   "outputs": [],
   "source": []
  },
  {
   "cell_type": "code",
   "execution_count": null,
   "metadata": {},
   "outputs": [],
   "source": []
  },
  {
   "cell_type": "code",
   "execution_count": null,
   "metadata": {},
   "outputs": [],
   "source": []
  },
  {
   "cell_type": "code",
   "execution_count": null,
   "metadata": {},
   "outputs": [],
   "source": []
  },
  {
   "cell_type": "code",
   "execution_count": null,
   "metadata": {},
   "outputs": [],
   "source": []
  },
  {
   "cell_type": "code",
   "execution_count": null,
   "metadata": {},
   "outputs": [],
   "source": []
  },
  {
   "cell_type": "code",
   "execution_count": null,
   "metadata": {},
   "outputs": [],
   "source": []
  },
  {
   "cell_type": "code",
   "execution_count": null,
   "metadata": {},
   "outputs": [],
   "source": []
  },
  {
   "cell_type": "code",
   "execution_count": null,
   "metadata": {},
   "outputs": [],
   "source": []
  },
  {
   "cell_type": "code",
   "execution_count": null,
   "metadata": {},
   "outputs": [],
   "source": []
  },
  {
   "cell_type": "code",
   "execution_count": null,
   "metadata": {},
   "outputs": [],
   "source": []
  },
  {
   "cell_type": "code",
   "execution_count": null,
   "metadata": {},
   "outputs": [],
   "source": []
  },
  {
   "cell_type": "code",
   "execution_count": null,
   "metadata": {},
   "outputs": [],
   "source": []
  },
  {
   "cell_type": "code",
   "execution_count": null,
   "metadata": {},
   "outputs": [],
   "source": []
  },
  {
   "cell_type": "code",
   "execution_count": null,
   "metadata": {},
   "outputs": [],
   "source": []
  },
  {
   "cell_type": "code",
   "execution_count": null,
   "metadata": {},
   "outputs": [],
   "source": []
  },
  {
   "cell_type": "code",
   "execution_count": null,
   "metadata": {},
   "outputs": [],
   "source": []
  },
  {
   "cell_type": "code",
   "execution_count": null,
   "metadata": {},
   "outputs": [],
   "source": []
  },
  {
   "cell_type": "code",
   "execution_count": null,
   "metadata": {},
   "outputs": [],
   "source": []
  },
  {
   "cell_type": "code",
   "execution_count": null,
   "metadata": {},
   "outputs": [],
   "source": []
  },
  {
   "cell_type": "code",
   "execution_count": null,
   "metadata": {},
   "outputs": [],
   "source": []
  },
  {
   "cell_type": "code",
   "execution_count": null,
   "metadata": {},
   "outputs": [],
   "source": []
  },
  {
   "cell_type": "code",
   "execution_count": null,
   "metadata": {},
   "outputs": [],
   "source": []
  },
  {
   "cell_type": "code",
   "execution_count": null,
   "metadata": {},
   "outputs": [],
   "source": []
  },
  {
   "cell_type": "code",
   "execution_count": null,
   "metadata": {},
   "outputs": [],
   "source": []
  },
  {
   "cell_type": "code",
   "execution_count": null,
   "metadata": {},
   "outputs": [],
   "source": []
  },
  {
   "cell_type": "code",
   "execution_count": null,
   "metadata": {},
   "outputs": [],
   "source": []
  },
  {
   "cell_type": "code",
   "execution_count": null,
   "metadata": {},
   "outputs": [],
   "source": []
  },
  {
   "cell_type": "code",
   "execution_count": null,
   "metadata": {},
   "outputs": [],
   "source": []
  },
  {
   "cell_type": "code",
   "execution_count": null,
   "metadata": {},
   "outputs": [],
   "source": []
  },
  {
   "cell_type": "code",
   "execution_count": null,
   "metadata": {},
   "outputs": [],
   "source": []
  },
  {
   "cell_type": "code",
   "execution_count": null,
   "metadata": {},
   "outputs": [],
   "source": []
  },
  {
   "cell_type": "code",
   "execution_count": null,
   "metadata": {},
   "outputs": [],
   "source": []
  },
  {
   "cell_type": "code",
   "execution_count": null,
   "metadata": {},
   "outputs": [],
   "source": []
  },
  {
   "cell_type": "code",
   "execution_count": null,
   "metadata": {},
   "outputs": [],
   "source": []
  },
  {
   "cell_type": "code",
   "execution_count": null,
   "metadata": {},
   "outputs": [],
   "source": []
  }
 ],
 "metadata": {
  "kernelspec": {
   "display_name": "Python 3",
   "language": "python",
   "name": "python3"
  },
  "language_info": {
   "codemirror_mode": {
    "name": "ipython",
    "version": 3
   },
   "file_extension": ".py",
   "mimetype": "text/x-python",
   "name": "python",
   "nbconvert_exporter": "python",
   "pygments_lexer": "ipython3",
   "version": "3.7.6"
  }
 },
 "nbformat": 4,
 "nbformat_minor": 4
}
