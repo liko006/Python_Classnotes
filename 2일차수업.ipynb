{
 "cells": [
  {
   "cell_type": "markdown",
   "metadata": {},
   "source": [
    "# 웹 스크래이핑"
   ]
  },
  {
   "cell_type": "markdown",
   "metadata": {},
   "source": [
    "## webbrowser를 이용한 사이트 접속"
   ]
  },
  {
   "cell_type": "code",
   "execution_count": 4,
   "metadata": {},
   "outputs": [
    {
     "data": {
      "text/plain": [
       "True"
      ]
     },
     "execution_count": 4,
     "metadata": {},
     "output_type": "execute_result"
    }
   ],
   "source": [
    "# 웹 관련 모듈 호출\n",
    "import webbrowser\n",
    "\n",
    "# 정보를 가져올 홈페이지 주소를 입력\n",
    "url = 'www.naver.com'\n",
    "\n",
    "# url로 지정한 사이트에 접속한다.\n",
    "webbrowser.open(url)"
   ]
  },
  {
   "cell_type": "markdown",
   "metadata": {},
   "source": [
    "## 사이트에서 검색어 입력하기"
   ]
  },
  {
   "cell_type": "markdown",
   "metadata": {},
   "source": [
    "네이버 검색창 https://search.naver.com/search.naver?sm=top_hty&fbm=0&ie=utf8&query=\n",
    "\n",
    "다음 검색창 https://search.daum.net/search?w=tot&DA=YZR&t__nil_searchbox=btn&sug=&sugo=&sq=&o=&q=\n",
    "\n",
    "네이트 검색창 https://search.daum.net/nate?thr=sbma&w=tot&q=\n",
    "\n",
    "구글 검색창 https://www.google.com/#q="
   ]
  },
  {
   "cell_type": "code",
   "execution_count": 11,
   "metadata": {},
   "outputs": [
    {
     "data": {
      "text/plain": [
       "True"
      ]
     },
     "execution_count": 11,
     "metadata": {},
     "output_type": "execute_result"
    }
   ],
   "source": [
    "# %%writefile d:/weekend/0705/naver_url.py  \n",
    "# 해당 박스에 있는 코드를 지정된 경로에 파일로 저장하는 명령어\n",
    "\n",
    "# 웹 관련 모듈 호출\n",
    "import webbrowser\n",
    "\n",
    "# 정보를 가져올 홈페이지 주소를 입력\n",
    "naver_url = 'https://search.naver.com/search.naver?sm=top_hty&fbm=0&ie=utf8&query='\n",
    "\n",
    "# 검색어 입력\n",
    "search_word = '파이썬'\n",
    "\n",
    "# 통합변수\n",
    "url = naver_url + search_word\n",
    "\n",
    "# url로 지정한 사이트에 접속 후 검색어를 검색한다.\n",
    "webbrowser.open_new(url)"
   ]
  },
  {
   "cell_type": "code",
   "execution_count": 14,
   "metadata": {},
   "outputs": [
    {
     "data": {
      "text/plain": [
       "True"
      ]
     },
     "execution_count": 14,
     "metadata": {},
     "output_type": "execute_result"
    }
   ],
   "source": [
    "# 웹 관련 모듈 호출\n",
    "import webbrowser\n",
    "\n",
    "# 정보를 가져올 홈페이지 주소를 입력\n",
    "daum_url = 'https://search.daum.net/search?w=tot&DA=YZR&t__nil_searchbox=btn&sug=&sugo=&sq=&o=&q='\n",
    "\n",
    "# 검색어 입력\n",
    "search_word = '파이썬'\n",
    "\n",
    "# 통합변수\n",
    "url = daum_url + search_word\n",
    "\n",
    "# url로 지정한 사이트에 접속 후 검색어를 검색한다.\n",
    "webbrowser.open_new(url)"
   ]
  },
  {
   "cell_type": "code",
   "execution_count": 15,
   "metadata": {},
   "outputs": [
    {
     "data": {
      "text/plain": [
       "True"
      ]
     },
     "execution_count": 15,
     "metadata": {},
     "output_type": "execute_result"
    }
   ],
   "source": [
    "# 웹 관련 모듈 호출\n",
    "import webbrowser\n",
    "\n",
    "# 정보를 가져올 홈페이지 주소를 입력\n",
    "nate_url = 'https://search.daum.net/nate?thr=sbma&w=tot&q='\n",
    "\n",
    "# 검색어 입력\n",
    "search_word = '파이썬'\n",
    "\n",
    "# 통합변수\n",
    "url = nate_url + search_word\n",
    "\n",
    "# url로 지정한 사이트에 접속 후 검색어를 검색한다.\n",
    "webbrowser.open_new(url)"
   ]
  },
  {
   "cell_type": "code",
   "execution_count": 16,
   "metadata": {},
   "outputs": [
    {
     "data": {
      "text/plain": [
       "True"
      ]
     },
     "execution_count": 16,
     "metadata": {},
     "output_type": "execute_result"
    }
   ],
   "source": [
    "# 웹 관련 모듈 호출\n",
    "import webbrowser\n",
    "\n",
    "# 정보를 가져올 홈페이지 주소를 입력\n",
    "'google_url' = 'https://www.google.com/#q='\n",
    "\n",
    "# 검색어 입력\n",
    "search_word = '파이썬'\n",
    "\n",
    "# 통합변수\n",
    "url = google_url + search_word\n",
    "\n",
    "# url로 지정한 사이트에 접속 후 검색어를 검색한다.\n",
    "webbrowser.open_new(url)"
   ]
  },
  {
   "cell_type": "markdown",
   "metadata": {},
   "source": [
    "### 하나의 사이트에서 어러개의 검색어 입력하기\n",
    "\n",
    "하나 이상의 것을 검색할 때는 `리스트로 저장 -> 반복문 ` 사용이 기본 룰"
   ]
  },
  {
   "cell_type": "code",
   "execution_count": 22,
   "metadata": {},
   "outputs": [
    {
     "name": "stdout",
     "output_type": "stream",
     "text": [
      "Overwriting d:/weekend/0705/multi_word_search.py\n"
     ]
    }
   ],
   "source": [
    "# %%writefile d:/weekend/0705/multi_word_search.py  \n",
    "# 해당 박스에 있는 코드를 지정된 경로에 파일로 저장하는 명령어\n",
    "    \n",
    "# 웹 관련 모듈 호출\n",
    "import webbrowser\n",
    "\n",
    "# 정보를 가져올 홈페이지 주소를 입력\n",
    "naver_url = 'https://search.naver.com/search.naver?sm=top_hty&fbm=0&ie=utf8&query='\n",
    "\n",
    "# 검색어 입력\n",
    "search_words = ['이천 쌀', '이천 도자기', '이천 복숭아', '이천 반도체']\n",
    "\n",
    "for word in search_words:\n",
    "\n",
    "    # url로 지정한 사이트에 접속 후 검색어를 검색한다.\n",
    "    webbrowser.open_new(naver_url + word)"
   ]
  },
  {
   "cell_type": "markdown",
   "metadata": {},
   "source": [
    "#### 사이트 4개 : 네이버, 다음, 네이트, 구글\n",
    "#### 검색어 4개 : 이천 쌀, 이천 도자기, 이천 복숭아, 이천 반도체"
   ]
  },
  {
   "cell_type": "code",
   "execution_count": 39,
   "metadata": {},
   "outputs": [],
   "source": [
    "# %%writefile d:/weekend/0705/search4_4.py  \n",
    "\n",
    "# 웹 관련 모듈 호출\n",
    "import webbrowser\n",
    "\n",
    "# 정보를 가져올 홈페이지 주소들를 입력\n",
    "urls = ['https://search.naver.com/search.naver?sm=top_hty&fbm=0&ie=utf8&query=', \n",
    "        'https://search.daum.net/search?w=tot&DA=YZR&t__nil_searchbox=btn&sug=&sugo=&sq=&o=&q=',\n",
    "        'https://search.daum.net/nate?thr=sbma&w=tot&q=',\n",
    "        'https://www.google.com/#q=']\n",
    "\n",
    "# 검색어들 입력\n",
    "words = ['이천 쌀', '이천 도자기', '이천 복숭아', '이천 반도체']\n",
    "\n",
    "# 반복문 활용해서 통합변수 만들기\n",
    "i = 0\n",
    "\n",
    "for url in urls:\n",
    "    for word in words:\n",
    "        if (words[i] == word):\n",
    "               \n",
    "            #url로 지정한 사이트에 접속 후 검색어를 검색한다.\n",
    "            webbrowser.open_new(url+word)\n",
    "    i = i + 1\n",
    "\n",
    "# 4 to 4 - 다른 코드 \n",
    "# # web address\n",
    "# url = ['https://search.naver.com/search.naver?sm=top_hty&fbm=0&ie=utf8&query=',\n",
    "#        'https://search.daum.net/search?w=tot&DA=YZR&t__nil_searchbox=btn&sug=&sugo=&sq=&o=&q=',\n",
    "#        'https://search.daum.net/nate?thr=sbma&w=tot&q=',\n",
    "#        'https://www.google.com/#q=']\n",
    "\n",
    "# # serach keyword\n",
    "# search_word = ['이천 쌀','이천 도자기','이천 복숭아','이천 반도체']\n",
    "\n",
    "# for i in range(0, len(url)):\n",
    "#     webbrowser.open_new(url[i] + search_word[i])"
   ]
  },
  {
   "cell_type": "markdown",
   "metadata": {},
   "source": [
    "# 숙제\n",
    "\n",
    "1. 프로그램을 실행한다.\n",
    "\n",
    "2. 어떤 사이트로 접속할지 물어본다.\n",
    "\n",
    "3. 어떤 검색어를 사용할지 물어본다.\n",
    "\n",
    "4. 화면이 나온다."
   ]
  },
  {
   "cell_type": "code",
   "execution_count": 42,
   "metadata": {},
   "outputs": [
    {
     "name": "stdout",
     "output_type": "stream",
     "text": [
      "Overwriting d:/weekend/0705/hmk.py\n"
     ]
    }
   ],
   "source": [
    "# %%writefile d:/weekend/0705/hmk.py\n",
    "\n",
    "import sys\n",
    "import webbrowser\n",
    "\n",
    "input_url = sys.argv[1]\n",
    "input_word = sys.argv[2]\n",
    "\n",
    "webbrowser.open_new(input_url + input_word)"
   ]
  },
  {
   "cell_type": "markdown",
   "metadata": {},
   "source": [
    "# 네이버 로그인"
   ]
  },
  {
   "cell_type": "code",
   "execution_count": 1,
   "metadata": {},
   "outputs": [],
   "source": [
    "from selenium import webdriver\n",
    "\n",
    "driver = webdriver.Chrome('chromedriver.exe')\n",
    "driver.get('https://www.naver.com')"
   ]
  },
  {
   "cell_type": "code",
   "execution_count": 2,
   "metadata": {},
   "outputs": [],
   "source": [
    "# 네이버에서 로그인창 클릭\n",
    "\n",
    "xpath = '''//*[@id=\"account\"]/a'''\n",
    "driver.find_element_by_xpath(xpath).click()"
   ]
  },
  {
   "cell_type": "code",
   "execution_count": 3,
   "metadata": {},
   "outputs": [],
   "source": [
    "# 네이버 아이디와 패스워드 입력\n",
    "\n",
    "elem_loginid = driver.find_element_by_id('id')\n",
    "elem_loginid.clear()\n",
    "elem_loginid.send_keys('liko001') # 네이버 ID 입력\n",
    "\n",
    "elem_loginpw = driver.find_element_by_id('pw')\n",
    "elem_loginpw.clear()\n",
    "elem_loginpw.send_keys('rlawlsgud0416') # 네이버 암호입력"
   ]
  },
  {
   "cell_type": "code",
   "execution_count": 4,
   "metadata": {},
   "outputs": [],
   "source": [
    "# 로그인창에서 로그인 다시 클릭\n",
    "\n",
    "xpath = '''//*[@id=\"log.login\"]'''\n",
    "driver.find_element_by_xpath(xpath).click()"
   ]
  },
  {
   "cell_type": "code",
   "execution_count": null,
   "metadata": {},
   "outputs": [],
   "source": []
  },
  {
   "cell_type": "code",
   "execution_count": 5,
   "metadata": {},
   "outputs": [],
   "source": [
    "driver.close()"
   ]
  },
  {
   "cell_type": "code",
   "execution_count": null,
   "metadata": {},
   "outputs": [],
   "source": []
  },
  {
   "cell_type": "code",
   "execution_count": null,
   "metadata": {},
   "outputs": [],
   "source": []
  },
  {
   "cell_type": "code",
   "execution_count": null,
   "metadata": {},
   "outputs": [],
   "source": []
  },
  {
   "cell_type": "code",
   "execution_count": null,
   "metadata": {},
   "outputs": [],
   "source": []
  },
  {
   "cell_type": "code",
   "execution_count": null,
   "metadata": {},
   "outputs": [],
   "source": []
  },
  {
   "cell_type": "code",
   "execution_count": null,
   "metadata": {},
   "outputs": [],
   "source": []
  },
  {
   "cell_type": "code",
   "execution_count": null,
   "metadata": {},
   "outputs": [],
   "source": []
  }
 ],
 "metadata": {
  "kernelspec": {
   "display_name": "Python 3",
   "language": "python",
   "name": "python3"
  },
  "language_info": {
   "codemirror_mode": {
    "name": "ipython",
    "version": 3
   },
   "file_extension": ".py",
   "mimetype": "text/x-python",
   "name": "python",
   "nbconvert_exporter": "python",
   "pygments_lexer": "ipython3",
   "version": "3.8.2"
  }
 },
 "nbformat": 4,
 "nbformat_minor": 4
}
